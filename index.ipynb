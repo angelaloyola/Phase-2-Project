{
 "cells": [
  {
   "cell_type": "markdown",
   "metadata": {},
   "source": [
    "![example](images/home_reno.jpg)"
   ]
  },
  {
   "cell_type": "markdown",
   "metadata": {},
   "source": [
    "## Home Renovation Analysis \n",
    "\n",
    "\n",
    "* Author: Angela Loyola\n",
    "* Student pace: Self-Paced\n",
    "* Instructor name: Mark Barbour"
   ]
  },
  {
   "cell_type": "markdown",
   "metadata": {},
   "source": [
    "## Overview & Business Problem"
   ]
  },
  {
   "cell_type": "markdown",
   "metadata": {},
   "source": [
    "As a real estate company, many clients approach our firm seeking advice on how to increase the value of their existing homes through renovations before selling. This project aims to address this question and determine which types of home renovations can lift the estimated value of a property and providing our stakeholders with a quantifiable measure of that increase. \n",
    "\n",
    "By employing an iterative approach to construct a regression model, with price as the dependent variable, the final model will  identify the different influential factors that exhibit a strong correlation with home prices. \n",
    "\n",
    "Utilizing KC Housing Database, I will focus soley on variables that are feasible to renovate, such as bathrooms or heat source, while excluding data points like \"Waterfront\". By carefully selecting the variables to be tested, I will ensure that the resulting model generates actionable insights for our stakeholders."
   ]
  },
  {
   "cell_type": "markdown",
   "metadata": {},
   "source": [
    "## Data Understanding & Exploration"
   ]
  },
  {
   "cell_type": "code",
   "execution_count": 1,
   "metadata": {},
   "outputs": [],
   "source": [
    "### Importing all packages and libaries \n",
    "import pandas as pd\n",
    "import numpy as np\n",
    "import statsmodels.api as sm\n",
    "import matplotlib.pyplot as plt\n",
    "from sklearn.preprocessing import PolynomialFeatures\n",
    "from matplotlib.dates import YearLocator, DateFormatter\n",
    "import matplotlib.ticker as ticker"
   ]
  },
  {
   "cell_type": "code",
   "execution_count": 2,
   "metadata": {},
   "outputs": [],
   "source": [
    "df = pd.read_csv('data/kc_house_data.csv') #Loading KC data Set"
   ]
  },
  {
   "cell_type": "code",
   "execution_count": 62,
   "metadata": {},
   "outputs": [
    {
     "data": {
      "image/png": "[encoded data removed]",
      "text/plain": [
       "<Figure size 640x480 with 1 Axes>"
      ]
     },
     "metadata": {},
     "output_type": "display_data"
    }
   ],
   "source": [
    "import seaborn as sns\n",
    "\n",
    "# Variable I want to Visualize\n",
    "variable = 'price'\n",
    "\n",
    "# Create the box plot\n",
    "sns.boxplot(data=df, x=variable)\n",
    "\n",
    "plt.xlabel('Price')\n",
    "plt.ylabel('Value')\n",
    "plt.title('Box Plot of Price')\n",
    "\n",
    "# Display\n",
    "plt.show()"
   ]
  },
  {
   "cell_type": "code",
   "execution_count": 3,
   "metadata": {},
   "outputs": [
    {
     "data": {
      "text/plain": [
       "Index(['id', 'date', 'price', 'bedrooms', 'bathrooms', 'sqft_living',\n",
       "       'sqft_lot', 'floors', 'waterfront', 'greenbelt', 'nuisance', 'view',\n",
       "       'condition', 'grade', 'heat_source', 'sewer_system', 'sqft_above',\n",
       "       'sqft_basement', 'sqft_garage', 'sqft_patio', 'yr_built',\n",
       "       'yr_renovated', 'address', 'lat', 'long'],\n",
       "      dtype='object')"
      ]
     },
     "execution_count": 3,
     "metadata": {},
     "output_type": "execute_result"
    }
   ],
   "source": [
    "df.columns"
   ]
  },
  {
   "cell_type": "markdown",
   "metadata": {},
   "source": [
    "2. Subsetting DataFrame for columns that are feasible to renovate"
   ]
  },
  {
   "cell_type": "code",
   "execution_count": 4,
   "metadata": {},
   "outputs": [],
   "source": [
    "select_cols = df[['price', 'bedrooms', 'bathrooms', 'heat_source', 'sewer_system', 'sqft_garage', 'sqft_patio', 'condition', 'sqft_living']]"
   ]
  },
  {
   "cell_type": "markdown",
   "metadata": {},
   "source": [
    "3. Output description of the dataframes variables \n",
    "\n",
    "The description of database below shows that there are missing values in the following columns: heat_source and sewer_system. "
   ]
  },
  {
   "cell_type": "code",
   "execution_count": 5,
   "metadata": {},
   "outputs": [
    {
     "name": "stdout",
     "output_type": "stream",
     "text": [
      "<class 'pandas.core.frame.DataFrame'>\n",
      "RangeIndex: 30155 entries, 0 to 30154\n",
      "Data columns (total 9 columns):\n",
      " #   Column        Non-Null Count  Dtype  \n",
      "---  ------        --------------  -----  \n",
      " 0   price         30155 non-null  float64\n",
      " 1   bedrooms      30155 non-null  int64  \n",
      " 2   bathrooms     30155 non-null  float64\n",
      " 3   heat_source   30123 non-null  object \n",
      " 4   sewer_system  30141 non-null  object \n",
      " 5   sqft_garage   30155 non-null  int64  \n",
      " 6   sqft_patio    30155 non-null  int64  \n",
      " 7   condition     30155 non-null  object \n",
      " 8   sqft_living   30155 non-null  int64  \n",
      "dtypes: float64(2), int64(4), object(3)\n",
      "memory usage: 2.1+ MB\n"
     ]
    }
   ],
   "source": [
    "select_cols.info() "
   ]
  },
  {
   "cell_type": "markdown",
   "metadata": {},
   "source": [
    "4. Print unique values for object columns to understand the data"
   ]
  },
  {
   "cell_type": "code",
   "execution_count": 6,
   "metadata": {},
   "outputs": [
    {
     "data": {
      "text/plain": [
       "Average      18547\n",
       "Good          8054\n",
       "Very Good     3259\n",
       "Fair           230\n",
       "Poor            65\n",
       "Name: condition, dtype: int64"
      ]
     },
     "execution_count": 6,
     "metadata": {},
     "output_type": "execute_result"
    }
   ],
   "source": [
    "select_cols['condition'].value_counts() # This is a rating"
   ]
  },
  {
   "cell_type": "code",
   "execution_count": 7,
   "metadata": {},
   "outputs": [
    {
     "data": {
      "text/plain": [
       "PUBLIC                25777\n",
       "PRIVATE                4355\n",
       "PRIVATE RESTRICTED        6\n",
       "PUBLIC RESTRICTED         3\n",
       "Name: sewer_system, dtype: int64"
      ]
     },
     "execution_count": 7,
     "metadata": {},
     "output_type": "execute_result"
    }
   ],
   "source": [
    "select_cols['sewer_system'].value_counts() # Most values are either Public or Private"
   ]
  },
  {
   "cell_type": "code",
   "execution_count": 8,
   "metadata": {},
   "outputs": [
    {
     "data": {
      "text/plain": [
       "Gas                  20583\n",
       "Electricity           6465\n",
       "Oil                   2899\n",
       "Gas/Solar               93\n",
       "Electricity/Solar       59\n",
       "Other                   20\n",
       "Oil/Solar                4\n",
       "Name: heat_source, dtype: int64"
      ]
     },
     "execution_count": 8,
     "metadata": {},
     "output_type": "execute_result"
    }
   ],
   "source": [
    "select_cols ['heat_source'].value_counts() # Most of the data values are either Gas, Electricity, or Oil"
   ]
  },
  {
   "cell_type": "markdown",
   "metadata": {},
   "source": [
    "## Data Cleaning & Processing\n",
    "\n",
    "In this section, I will eliminate the null values identified during the data understanding and exploration stage from the data set. \n",
    "\n",
    "To address the categorical variables, I will create aggregate variables by grouping certain values that have a lower frequency. \n",
    "\n",
    "The categorical variables will then undergo the following processing steps: Sewer System and Heat Source will be encoded using One-Hot Encoding, while the condition column will be mapped to create a rating system.\n",
    "\n",
    "Additionally, I will create a new variable called Solar_Power, derived from the Heat Source variable to test renewable energy in the model. \n",
    "\n",
    "By processing the data in this manner, I will ensure the dataset is optimized for the analysis and modeling."
   ]
  },
  {
   "cell_type": "code",
   "execution_count": 9,
   "metadata": {},
   "outputs": [
    {
     "name": "stderr",
     "output_type": "stream",
     "text": [
      "C:\\Users\\AngelaLOYOLA\\AppData\\Local\\Temp\\ipykernel_24868\\4006225066.py:2: SettingWithCopyWarning: \n",
      "A value is trying to be set on a copy of a slice from a DataFrame\n",
      "\n",
      "See the caveats in the documentation: https://pandas.pydata.org/pandas-docs/stable/user_guide/indexing.html#returning-a-view-versus-a-copy\n",
      "  select_cols.dropna(inplace = True)\n"
     ]
    }
   ],
   "source": [
    "## Drop all null values identified above \n",
    "select_cols.dropna(inplace = True)"
   ]
  },
  {
   "cell_type": "code",
   "execution_count": 10,
   "metadata": {},
   "outputs": [
    {
     "name": "stdout",
     "output_type": "stream",
     "text": [
      "<class 'pandas.core.frame.DataFrame'>\n",
      "Int64Index: 30111 entries, 0 to 30154\n",
      "Data columns (total 9 columns):\n",
      " #   Column        Non-Null Count  Dtype  \n",
      "---  ------        --------------  -----  \n",
      " 0   price         30111 non-null  float64\n",
      " 1   bedrooms      30111 non-null  int64  \n",
      " 2   bathrooms     30111 non-null  float64\n",
      " 3   heat_source   30111 non-null  object \n",
      " 4   sewer_system  30111 non-null  object \n",
      " 5   sqft_garage   30111 non-null  int64  \n",
      " 6   sqft_patio    30111 non-null  int64  \n",
      " 7   condition     30111 non-null  object \n",
      " 8   sqft_living   30111 non-null  int64  \n",
      "dtypes: float64(2), int64(4), object(3)\n",
      "memory usage: 2.3+ MB\n"
     ]
    }
   ],
   "source": [
    "select_cols.info() ##checking that all null values have been removed "
   ]
  },
  {
   "cell_type": "markdown",
   "metadata": {},
   "source": [
    "#### Conditions Variable"
   ]
  },
  {
   "cell_type": "code",
   "execution_count": 11,
   "metadata": {},
   "outputs": [
    {
     "name": "stderr",
     "output_type": "stream",
     "text": [
      "C:\\Users\\AngelaLOYOLA\\AppData\\Local\\Temp\\ipykernel_24868\\3609746508.py:3: SettingWithCopyWarning: \n",
      "A value is trying to be set on a copy of a slice from a DataFrame.\n",
      "Try using .loc[row_indexer,col_indexer] = value instead\n",
      "\n",
      "See the caveats in the documentation: https://pandas.pydata.org/pandas-docs/stable/user_guide/indexing.html#returning-a-view-versus-a-copy\n",
      "  select_cols['condition_rating'] = select_cols['condition'].map(rating_mapping)\n"
     ]
    }
   ],
   "source": [
    "##Converting Conditions into a rating \n",
    "rating_mapping = {'Poor': 1, 'Fair': 2, 'Average': 3, 'Good': 4, 'Very Good': 5}\n",
    "select_cols['condition_rating'] = select_cols['condition'].map(rating_mapping)"
   ]
  },
  {
   "cell_type": "markdown",
   "metadata": {},
   "source": [
    "#### Sewer System Variable"
   ]
  },
  {
   "cell_type": "code",
   "execution_count": 12,
   "metadata": {},
   "outputs": [
    {
     "name": "stderr",
     "output_type": "stream",
     "text": [
      "C:\\Users\\AngelaLOYOLA\\AppData\\Local\\Temp\\ipykernel_24868\\3817159380.py:2: SettingWithCopyWarning: \n",
      "A value is trying to be set on a copy of a slice from a DataFrame.\n",
      "Try using .loc[row_indexer,col_indexer] = value instead\n",
      "\n",
      "See the caveats in the documentation: https://pandas.pydata.org/pandas-docs/stable/user_guide/indexing.html#returning-a-view-versus-a-copy\n",
      "  select_cols['sewer_system_agg'] = np.where(select_cols['sewer_system'].str.contains('PRIVATE'), 'PRIVATE' , 'PUBLIC')\n"
     ]
    }
   ],
   "source": [
    "###For Sewer, since there is very few \"Restricted\" values, I will put them in public and private and make them dummy variables\n",
    "select_cols['sewer_system_agg'] = np.where(select_cols['sewer_system'].str.contains('PRIVATE'), 'PRIVATE' , 'PUBLIC')"
   ]
  },
  {
   "cell_type": "code",
   "execution_count": 13,
   "metadata": {},
   "outputs": [
    {
     "data": {
      "text/plain": [
       "PUBLIC     25770\n",
       "PRIVATE     4341\n",
       "Name: sewer_system_agg, dtype: int64"
      ]
     },
     "execution_count": 13,
     "metadata": {},
     "output_type": "execute_result"
    }
   ],
   "source": [
    "select_cols['sewer_system_agg'].value_counts() ##Checking the new values are correct"
   ]
  },
  {
   "cell_type": "code",
   "execution_count": 14,
   "metadata": {},
   "outputs": [],
   "source": [
    "sewer_dummies = pd.get_dummies(select_cols['sewer_system_agg'])"
   ]
  },
  {
   "cell_type": "code",
   "execution_count": 15,
   "metadata": {},
   "outputs": [],
   "source": [
    "##changing column names and merging\n",
    "sewer_dummies = sewer_dummies.rename(columns = {'PRIVATE': 'sewer_private', 'PUBLIC': 'sewer_public'})\n",
    "select_cols = pd.concat([select_cols, sewer_dummies], axis = 1)"
   ]
  },
  {
   "cell_type": "code",
   "execution_count": 16,
   "metadata": {},
   "outputs": [
    {
     "data": {
      "text/html": [
       "<div>\n",
       "<style scoped>\n",
       "    .dataframe tbody tr th:only-of-type {\n",
       "        vertical-align: middle;\n",
       "    }\n",
       "\n",
       "    .dataframe tbody tr th {\n",
       "        vertical-align: top;\n",
       "    }\n",
       "\n",
       "    .dataframe thead th {\n",
       "        text-align: right;\n",
       "    }\n",
       "</style>\n",
       "<table border=\"1\" class=\"dataframe\">\n",
       "  <thead>\n",
       "    <tr style=\"text-align: right;\">\n",
       "      <th></th>\n",
       "      <th>price</th>\n",
       "      <th>bedrooms</th>\n",
       "      <th>bathrooms</th>\n",
       "      <th>heat_source</th>\n",
       "      <th>sewer_system</th>\n",
       "      <th>sqft_garage</th>\n",
       "      <th>sqft_patio</th>\n",
       "      <th>condition</th>\n",
       "      <th>sqft_living</th>\n",
       "      <th>condition_rating</th>\n",
       "      <th>sewer_system_agg</th>\n",
       "      <th>sewer_private</th>\n",
       "      <th>sewer_public</th>\n",
       "    </tr>\n",
       "  </thead>\n",
       "  <tbody>\n",
       "    <tr>\n",
       "      <th>0</th>\n",
       "      <td>675000.0</td>\n",
       "      <td>4</td>\n",
       "      <td>1.0</td>\n",
       "      <td>Gas</td>\n",
       "      <td>PUBLIC</td>\n",
       "      <td>0</td>\n",
       "      <td>40</td>\n",
       "      <td>Good</td>\n",
       "      <td>1180</td>\n",
       "      <td>4</td>\n",
       "      <td>PUBLIC</td>\n",
       "      <td>0</td>\n",
       "      <td>1</td>\n",
       "    </tr>\n",
       "    <tr>\n",
       "      <th>1</th>\n",
       "      <td>920000.0</td>\n",
       "      <td>5</td>\n",
       "      <td>2.5</td>\n",
       "      <td>Oil</td>\n",
       "      <td>PUBLIC</td>\n",
       "      <td>0</td>\n",
       "      <td>240</td>\n",
       "      <td>Average</td>\n",
       "      <td>2770</td>\n",
       "      <td>3</td>\n",
       "      <td>PUBLIC</td>\n",
       "      <td>0</td>\n",
       "      <td>1</td>\n",
       "    </tr>\n",
       "    <tr>\n",
       "      <th>2</th>\n",
       "      <td>311000.0</td>\n",
       "      <td>6</td>\n",
       "      <td>2.0</td>\n",
       "      <td>Gas</td>\n",
       "      <td>PUBLIC</td>\n",
       "      <td>0</td>\n",
       "      <td>0</td>\n",
       "      <td>Average</td>\n",
       "      <td>2880</td>\n",
       "      <td>3</td>\n",
       "      <td>PUBLIC</td>\n",
       "      <td>0</td>\n",
       "      <td>1</td>\n",
       "    </tr>\n",
       "    <tr>\n",
       "      <th>3</th>\n",
       "      <td>775000.0</td>\n",
       "      <td>3</td>\n",
       "      <td>3.0</td>\n",
       "      <td>Gas</td>\n",
       "      <td>PUBLIC</td>\n",
       "      <td>200</td>\n",
       "      <td>270</td>\n",
       "      <td>Average</td>\n",
       "      <td>2160</td>\n",
       "      <td>3</td>\n",
       "      <td>PUBLIC</td>\n",
       "      <td>0</td>\n",
       "      <td>1</td>\n",
       "    </tr>\n",
       "    <tr>\n",
       "      <th>4</th>\n",
       "      <td>592500.0</td>\n",
       "      <td>2</td>\n",
       "      <td>2.0</td>\n",
       "      <td>Electricity</td>\n",
       "      <td>PUBLIC</td>\n",
       "      <td>550</td>\n",
       "      <td>30</td>\n",
       "      <td>Average</td>\n",
       "      <td>1120</td>\n",
       "      <td>3</td>\n",
       "      <td>PUBLIC</td>\n",
       "      <td>0</td>\n",
       "      <td>1</td>\n",
       "    </tr>\n",
       "  </tbody>\n",
       "</table>\n",
       "</div>"
      ],
      "text/plain": [
       "      price  bedrooms  bathrooms  heat_source sewer_system  sqft_garage  \\\n",
       "0  675000.0         4        1.0          Gas       PUBLIC            0   \n",
       "1  920000.0         5        2.5          Oil       PUBLIC            0   \n",
       "2  311000.0         6        2.0          Gas       PUBLIC            0   \n",
       "3  775000.0         3        3.0          Gas       PUBLIC          200   \n",
       "4  592500.0         2        2.0  Electricity       PUBLIC          550   \n",
       "\n",
       "   sqft_patio condition  sqft_living  condition_rating sewer_system_agg  \\\n",
       "0          40      Good         1180                 4           PUBLIC   \n",
       "1         240   Average         2770                 3           PUBLIC   \n",
       "2           0   Average         2880                 3           PUBLIC   \n",
       "3         270   Average         2160                 3           PUBLIC   \n",
       "4          30   Average         1120                 3           PUBLIC   \n",
       "\n",
       "   sewer_private  sewer_public  \n",
       "0              0             1  \n",
       "1              0             1  \n",
       "2              0             1  \n",
       "3              0             1  \n",
       "4              0             1  "
      ]
     },
     "execution_count": 16,
     "metadata": {},
     "output_type": "execute_result"
    }
   ],
   "source": [
    "select_cols.head()"
   ]
  },
  {
   "cell_type": "markdown",
   "metadata": {},
   "source": [
    "#### Heat Source Variable"
   ]
  },
  {
   "cell_type": "code",
   "execution_count": 17,
   "metadata": {},
   "outputs": [],
   "source": [
    "##Since a Majorty of the heat source variables fall within Gas, Electric, or Oil, I will keep those and everything else will be other"
   ]
  },
  {
   "cell_type": "code",
   "execution_count": 18,
   "metadata": {},
   "outputs": [],
   "source": [
    "select_cols['heat_source_agg'] = np.where(select_cols['heat_source'].str.contains('Solar|Other'), 'Other' , select_cols['heat_source'])"
   ]
  },
  {
   "cell_type": "code",
   "execution_count": 19,
   "metadata": {},
   "outputs": [
    {
     "data": {
      "text/plain": [
       "Gas            20576\n",
       "Electricity     6460\n",
       "Oil             2899\n",
       "Other            176\n",
       "Name: heat_source_agg, dtype: int64"
      ]
     },
     "execution_count": 19,
     "metadata": {},
     "output_type": "execute_result"
    }
   ],
   "source": [
    "select_cols['heat_source_agg'].value_counts() ##checking everything worked as expected"
   ]
  },
  {
   "cell_type": "code",
   "execution_count": 20,
   "metadata": {},
   "outputs": [],
   "source": [
    "##Create dummies\n",
    "heat_dummies = pd.get_dummies(select_cols['heat_source_agg'])"
   ]
  },
  {
   "cell_type": "code",
   "execution_count": 21,
   "metadata": {},
   "outputs": [],
   "source": [
    "heat_dummies = heat_dummies.rename(columns = {'Electricity': 'source_electric', 'Gas': 'source_gas', 'Oil': 'source_oil', 'Other': 'source_other'})"
   ]
  },
  {
   "cell_type": "code",
   "execution_count": 22,
   "metadata": {},
   "outputs": [],
   "source": [
    "select_cols = pd.concat([select_cols, heat_dummies], axis = 1)"
   ]
  },
  {
   "cell_type": "markdown",
   "metadata": {},
   "source": [
    "#### Solar Power Variable"
   ]
  },
  {
   "cell_type": "code",
   "execution_count": 23,
   "metadata": {},
   "outputs": [],
   "source": [
    "select_cols['solar_power'] = np.where(select_cols['heat_source'].str.contains('Solar'), 1 , 0)"
   ]
  },
  {
   "cell_type": "code",
   "execution_count": 24,
   "metadata": {},
   "outputs": [
    {
     "data": {
      "text/plain": [
       "0    29955\n",
       "1      156\n",
       "Name: solar_power, dtype: int64"
      ]
     },
     "execution_count": 24,
     "metadata": {},
     "output_type": "execute_result"
    }
   ],
   "source": [
    "select_cols['solar_power'].value_counts() ##Checking how many variables there are for Solar Power"
   ]
  },
  {
   "cell_type": "code",
   "execution_count": 25,
   "metadata": {},
   "outputs": [
    {
     "data": {
      "text/plain": [
       "Gas                  20576\n",
       "Electricity           6460\n",
       "Oil                   2899\n",
       "Gas/Solar               93\n",
       "Electricity/Solar       59\n",
       "Other                   20\n",
       "Oil/Solar                4\n",
       "Name: heat_source, dtype: int64"
      ]
     },
     "execution_count": 25,
     "metadata": {},
     "output_type": "execute_result"
    }
   ],
   "source": [
    "select_cols['heat_source'].value_counts()"
   ]
  },
  {
   "cell_type": "code",
   "execution_count": 26,
   "metadata": {},
   "outputs": [],
   "source": [
    "###Preview of final DB with variables to test"
   ]
  },
  {
   "cell_type": "code",
   "execution_count": 27,
   "metadata": {},
   "outputs": [
    {
     "data": {
      "text/html": [
       "<div>\n",
       "<style scoped>\n",
       "    .dataframe tbody tr th:only-of-type {\n",
       "        vertical-align: middle;\n",
       "    }\n",
       "\n",
       "    .dataframe tbody tr th {\n",
       "        vertical-align: top;\n",
       "    }\n",
       "\n",
       "    .dataframe thead th {\n",
       "        text-align: right;\n",
       "    }\n",
       "</style>\n",
       "<table border=\"1\" class=\"dataframe\">\n",
       "  <thead>\n",
       "    <tr style=\"text-align: right;\">\n",
       "      <th></th>\n",
       "      <th>price</th>\n",
       "      <th>bedrooms</th>\n",
       "      <th>bathrooms</th>\n",
       "      <th>heat_source</th>\n",
       "      <th>sewer_system</th>\n",
       "      <th>sqft_garage</th>\n",
       "      <th>sqft_patio</th>\n",
       "      <th>condition</th>\n",
       "      <th>sqft_living</th>\n",
       "      <th>condition_rating</th>\n",
       "      <th>sewer_system_agg</th>\n",
       "      <th>sewer_private</th>\n",
       "      <th>sewer_public</th>\n",
       "      <th>heat_source_agg</th>\n",
       "      <th>source_electric</th>\n",
       "      <th>source_gas</th>\n",
       "      <th>source_oil</th>\n",
       "      <th>source_other</th>\n",
       "      <th>solar_power</th>\n",
       "    </tr>\n",
       "  </thead>\n",
       "  <tbody>\n",
       "    <tr>\n",
       "      <th>0</th>\n",
       "      <td>675000.0</td>\n",
       "      <td>4</td>\n",
       "      <td>1.0</td>\n",
       "      <td>Gas</td>\n",
       "      <td>PUBLIC</td>\n",
       "      <td>0</td>\n",
       "      <td>40</td>\n",
       "      <td>Good</td>\n",
       "      <td>1180</td>\n",
       "      <td>4</td>\n",
       "      <td>PUBLIC</td>\n",
       "      <td>0</td>\n",
       "      <td>1</td>\n",
       "      <td>Gas</td>\n",
       "      <td>0</td>\n",
       "      <td>1</td>\n",
       "      <td>0</td>\n",
       "      <td>0</td>\n",
       "      <td>0</td>\n",
       "    </tr>\n",
       "    <tr>\n",
       "      <th>1</th>\n",
       "      <td>920000.0</td>\n",
       "      <td>5</td>\n",
       "      <td>2.5</td>\n",
       "      <td>Oil</td>\n",
       "      <td>PUBLIC</td>\n",
       "      <td>0</td>\n",
       "      <td>240</td>\n",
       "      <td>Average</td>\n",
       "      <td>2770</td>\n",
       "      <td>3</td>\n",
       "      <td>PUBLIC</td>\n",
       "      <td>0</td>\n",
       "      <td>1</td>\n",
       "      <td>Oil</td>\n",
       "      <td>0</td>\n",
       "      <td>0</td>\n",
       "      <td>1</td>\n",
       "      <td>0</td>\n",
       "      <td>0</td>\n",
       "    </tr>\n",
       "    <tr>\n",
       "      <th>2</th>\n",
       "      <td>311000.0</td>\n",
       "      <td>6</td>\n",
       "      <td>2.0</td>\n",
       "      <td>Gas</td>\n",
       "      <td>PUBLIC</td>\n",
       "      <td>0</td>\n",
       "      <td>0</td>\n",
       "      <td>Average</td>\n",
       "      <td>2880</td>\n",
       "      <td>3</td>\n",
       "      <td>PUBLIC</td>\n",
       "      <td>0</td>\n",
       "      <td>1</td>\n",
       "      <td>Gas</td>\n",
       "      <td>0</td>\n",
       "      <td>1</td>\n",
       "      <td>0</td>\n",
       "      <td>0</td>\n",
       "      <td>0</td>\n",
       "    </tr>\n",
       "    <tr>\n",
       "      <th>3</th>\n",
       "      <td>775000.0</td>\n",
       "      <td>3</td>\n",
       "      <td>3.0</td>\n",
       "      <td>Gas</td>\n",
       "      <td>PUBLIC</td>\n",
       "      <td>200</td>\n",
       "      <td>270</td>\n",
       "      <td>Average</td>\n",
       "      <td>2160</td>\n",
       "      <td>3</td>\n",
       "      <td>PUBLIC</td>\n",
       "      <td>0</td>\n",
       "      <td>1</td>\n",
       "      <td>Gas</td>\n",
       "      <td>0</td>\n",
       "      <td>1</td>\n",
       "      <td>0</td>\n",
       "      <td>0</td>\n",
       "      <td>0</td>\n",
       "    </tr>\n",
       "    <tr>\n",
       "      <th>4</th>\n",
       "      <td>592500.0</td>\n",
       "      <td>2</td>\n",
       "      <td>2.0</td>\n",
       "      <td>Electricity</td>\n",
       "      <td>PUBLIC</td>\n",
       "      <td>550</td>\n",
       "      <td>30</td>\n",
       "      <td>Average</td>\n",
       "      <td>1120</td>\n",
       "      <td>3</td>\n",
       "      <td>PUBLIC</td>\n",
       "      <td>0</td>\n",
       "      <td>1</td>\n",
       "      <td>Electricity</td>\n",
       "      <td>1</td>\n",
       "      <td>0</td>\n",
       "      <td>0</td>\n",
       "      <td>0</td>\n",
       "      <td>0</td>\n",
       "    </tr>\n",
       "    <tr>\n",
       "      <th>...</th>\n",
       "      <td>...</td>\n",
       "      <td>...</td>\n",
       "      <td>...</td>\n",
       "      <td>...</td>\n",
       "      <td>...</td>\n",
       "      <td>...</td>\n",
       "      <td>...</td>\n",
       "      <td>...</td>\n",
       "      <td>...</td>\n",
       "      <td>...</td>\n",
       "      <td>...</td>\n",
       "      <td>...</td>\n",
       "      <td>...</td>\n",
       "      <td>...</td>\n",
       "      <td>...</td>\n",
       "      <td>...</td>\n",
       "      <td>...</td>\n",
       "      <td>...</td>\n",
       "      <td>...</td>\n",
       "    </tr>\n",
       "    <tr>\n",
       "      <th>30150</th>\n",
       "      <td>1555000.0</td>\n",
       "      <td>5</td>\n",
       "      <td>2.0</td>\n",
       "      <td>Oil</td>\n",
       "      <td>PUBLIC</td>\n",
       "      <td>0</td>\n",
       "      <td>210</td>\n",
       "      <td>Good</td>\n",
       "      <td>1910</td>\n",
       "      <td>4</td>\n",
       "      <td>PUBLIC</td>\n",
       "      <td>0</td>\n",
       "      <td>1</td>\n",
       "      <td>Oil</td>\n",
       "      <td>0</td>\n",
       "      <td>0</td>\n",
       "      <td>1</td>\n",
       "      <td>0</td>\n",
       "      <td>0</td>\n",
       "    </tr>\n",
       "    <tr>\n",
       "      <th>30151</th>\n",
       "      <td>1313000.0</td>\n",
       "      <td>3</td>\n",
       "      <td>2.0</td>\n",
       "      <td>Gas</td>\n",
       "      <td>PUBLIC</td>\n",
       "      <td>0</td>\n",
       "      <td>520</td>\n",
       "      <td>Average</td>\n",
       "      <td>2020</td>\n",
       "      <td>3</td>\n",
       "      <td>PUBLIC</td>\n",
       "      <td>0</td>\n",
       "      <td>1</td>\n",
       "      <td>Gas</td>\n",
       "      <td>0</td>\n",
       "      <td>1</td>\n",
       "      <td>0</td>\n",
       "      <td>0</td>\n",
       "      <td>0</td>\n",
       "    </tr>\n",
       "    <tr>\n",
       "      <th>30152</th>\n",
       "      <td>800000.0</td>\n",
       "      <td>3</td>\n",
       "      <td>2.0</td>\n",
       "      <td>Gas</td>\n",
       "      <td>PUBLIC</td>\n",
       "      <td>240</td>\n",
       "      <td>110</td>\n",
       "      <td>Average</td>\n",
       "      <td>1620</td>\n",
       "      <td>3</td>\n",
       "      <td>PUBLIC</td>\n",
       "      <td>0</td>\n",
       "      <td>1</td>\n",
       "      <td>Gas</td>\n",
       "      <td>0</td>\n",
       "      <td>1</td>\n",
       "      <td>0</td>\n",
       "      <td>0</td>\n",
       "      <td>0</td>\n",
       "    </tr>\n",
       "    <tr>\n",
       "      <th>30153</th>\n",
       "      <td>775000.0</td>\n",
       "      <td>3</td>\n",
       "      <td>2.5</td>\n",
       "      <td>Gas</td>\n",
       "      <td>PUBLIC</td>\n",
       "      <td>480</td>\n",
       "      <td>100</td>\n",
       "      <td>Average</td>\n",
       "      <td>2570</td>\n",
       "      <td>3</td>\n",
       "      <td>PUBLIC</td>\n",
       "      <td>0</td>\n",
       "      <td>1</td>\n",
       "      <td>Gas</td>\n",
       "      <td>0</td>\n",
       "      <td>1</td>\n",
       "      <td>0</td>\n",
       "      <td>0</td>\n",
       "      <td>0</td>\n",
       "    </tr>\n",
       "    <tr>\n",
       "      <th>30154</th>\n",
       "      <td>500000.0</td>\n",
       "      <td>3</td>\n",
       "      <td>1.5</td>\n",
       "      <td>Oil</td>\n",
       "      <td>PUBLIC</td>\n",
       "      <td>420</td>\n",
       "      <td>0</td>\n",
       "      <td>Average</td>\n",
       "      <td>1200</td>\n",
       "      <td>3</td>\n",
       "      <td>PUBLIC</td>\n",
       "      <td>0</td>\n",
       "      <td>1</td>\n",
       "      <td>Oil</td>\n",
       "      <td>0</td>\n",
       "      <td>0</td>\n",
       "      <td>1</td>\n",
       "      <td>0</td>\n",
       "      <td>0</td>\n",
       "    </tr>\n",
       "  </tbody>\n",
       "</table>\n",
       "<p>30111 rows × 19 columns</p>\n",
       "</div>"
      ],
      "text/plain": [
       "           price  bedrooms  bathrooms  heat_source sewer_system  sqft_garage  \\\n",
       "0       675000.0         4        1.0          Gas       PUBLIC            0   \n",
       "1       920000.0         5        2.5          Oil       PUBLIC            0   \n",
       "2       311000.0         6        2.0          Gas       PUBLIC            0   \n",
       "3       775000.0         3        3.0          Gas       PUBLIC          200   \n",
       "4       592500.0         2        2.0  Electricity       PUBLIC          550   \n",
       "...          ...       ...        ...          ...          ...          ...   \n",
       "30150  1555000.0         5        2.0          Oil       PUBLIC            0   \n",
       "30151  1313000.0         3        2.0          Gas       PUBLIC            0   \n",
       "30152   800000.0         3        2.0          Gas       PUBLIC          240   \n",
       "30153   775000.0         3        2.5          Gas       PUBLIC          480   \n",
       "30154   500000.0         3        1.5          Oil       PUBLIC          420   \n",
       "\n",
       "       sqft_patio condition  sqft_living  condition_rating sewer_system_agg  \\\n",
       "0              40      Good         1180                 4           PUBLIC   \n",
       "1             240   Average         2770                 3           PUBLIC   \n",
       "2               0   Average         2880                 3           PUBLIC   \n",
       "3             270   Average         2160                 3           PUBLIC   \n",
       "4              30   Average         1120                 3           PUBLIC   \n",
       "...           ...       ...          ...               ...              ...   \n",
       "30150         210      Good         1910                 4           PUBLIC   \n",
       "30151         520   Average         2020                 3           PUBLIC   \n",
       "30152         110   Average         1620                 3           PUBLIC   \n",
       "30153         100   Average         2570                 3           PUBLIC   \n",
       "30154           0   Average         1200                 3           PUBLIC   \n",
       "\n",
       "       sewer_private  sewer_public heat_source_agg  source_electric  \\\n",
       "0                  0             1             Gas                0   \n",
       "1                  0             1             Oil                0   \n",
       "2                  0             1             Gas                0   \n",
       "3                  0             1             Gas                0   \n",
       "4                  0             1     Electricity                1   \n",
       "...              ...           ...             ...              ...   \n",
       "30150              0             1             Oil                0   \n",
       "30151              0             1             Gas                0   \n",
       "30152              0             1             Gas                0   \n",
       "30153              0             1             Gas                0   \n",
       "30154              0             1             Oil                0   \n",
       "\n",
       "       source_gas  source_oil  source_other  solar_power  \n",
       "0               1           0             0            0  \n",
       "1               0           1             0            0  \n",
       "2               1           0             0            0  \n",
       "3               1           0             0            0  \n",
       "4               0           0             0            0  \n",
       "...           ...         ...           ...          ...  \n",
       "30150           0           1             0            0  \n",
       "30151           1           0             0            0  \n",
       "30152           1           0             0            0  \n",
       "30153           1           0             0            0  \n",
       "30154           0           1             0            0  \n",
       "\n",
       "[30111 rows x 19 columns]"
      ]
     },
     "execution_count": 27,
     "metadata": {},
     "output_type": "execute_result"
    }
   ],
   "source": [
    "select_cols"
   ]
  },
  {
   "cell_type": "code",
   "execution_count": 28,
   "metadata": {},
   "outputs": [
    {
     "data": {
      "text/plain": [
       "Index(['price', 'bedrooms', 'bathrooms', 'heat_source', 'sewer_system',\n",
       "       'sqft_garage', 'sqft_patio', 'condition', 'sqft_living',\n",
       "       'condition_rating', 'sewer_system_agg', 'sewer_private', 'sewer_public',\n",
       "       'heat_source_agg', 'source_electric', 'source_gas', 'source_oil',\n",
       "       'source_other', 'solar_power'],\n",
       "      dtype='object')"
      ]
     },
     "execution_count": 28,
     "metadata": {},
     "output_type": "execute_result"
    }
   ],
   "source": [
    "select_cols.columns"
   ]
  },
  {
   "cell_type": "code",
   "execution_count": 29,
   "metadata": {},
   "outputs": [],
   "source": [
    "##Subset for new variables \n",
    "db = select_cols[['price', 'bedrooms', 'bathrooms',\n",
    "       'sqft_garage', 'sqft_patio', 'sqft_living','condition_rating',\n",
    "        'sewer_private', 'sewer_public', \n",
    "       'source_electric', 'source_gas', 'source_oil', 'source_other',\n",
    "       'solar_power']]"
   ]
  },
  {
   "cell_type": "markdown",
   "metadata": {},
   "source": [
    "## Correlation Test\n",
    "\n",
    "In this step, I ran a correlation analysis to inform my descion-making process on which variable to include in the baseline model.\n",
    "\n",
    "Using Pearson-Coefficients, Sqft_Living had the highest correlation at .60."
   ]
  },
  {
   "cell_type": "code",
   "execution_count": 30,
   "metadata": {},
   "outputs": [],
   "source": [
    "target_column = 'price'\n",
    "correlations = db.corr()[target_column]"
   ]
  },
  {
   "cell_type": "code",
   "execution_count": 31,
   "metadata": {},
   "outputs": [
    {
     "data": {
      "text/plain": [
       "price               1.000000\n",
       "bedrooms            0.288954\n",
       "bathrooms           0.480337\n",
       "sqft_garage         0.263674\n",
       "sqft_patio          0.313789\n",
       "sqft_living         0.608616\n",
       "condition_rating   -0.009599\n",
       "sewer_private      -0.021156\n",
       "sewer_public        0.021156\n",
       "source_electric    -0.116222\n",
       "source_gas          0.142218\n",
       "source_oil         -0.068180\n",
       "source_other        0.021835\n",
       "solar_power         0.022783\n",
       "Name: price, dtype: float64"
      ]
     },
     "execution_count": 31,
     "metadata": {},
     "output_type": "execute_result"
    }
   ],
   "source": [
    "correlations ##Sqft_Living is the most correlated to Price"
   ]
  },
  {
   "cell_type": "markdown",
   "metadata": {},
   "source": [
    "## Base Line Model: \n",
    "\n",
    "Using on the correlation coefficients outputted above, I selected the variable with the highest correlation to Price to run a baseline model.\n",
    "\n",
    "To visually illustrate the relationship and direction between sqft_living and price, I created a scatter plot in the code block below. \n",
    "\n",
    "Interpretation of Scatter Plot: The scatter plot reveals a subtle positive linear relationship between sqft_living and price. As the value of sqft_living increases, the data points become more sparse. "
   ]
  },
  {
   "cell_type": "code",
   "execution_count": 32,
   "metadata": {},
   "outputs": [
    {
     "data": {
      "image/png": "[encoded data removed]",
      "text/plain": [
       "<Figure size 640x480 with 1 Axes>"
      ]
     },
     "metadata": {},
     "output_type": "display_data"
    }
   ],
   "source": [
    "db.plot.scatter(x=\"sqft_living\", y=\"price\");"
   ]
  },
  {
   "cell_type": "markdown",
   "metadata": {},
   "source": [
    "Running Baseline Model with Sqft_living as the independent test variable: "
   ]
  },
  {
   "cell_type": "code",
   "execution_count": 33,
   "metadata": {},
   "outputs": [
    {
     "name": "stdout",
     "output_type": "stream",
     "text": [
      "                            OLS Regression Results                            \n",
      "==============================================================================\n",
      "Dep. Variable:                  price   R-squared:                       0.370\n",
      "Model:                            OLS   Adj. R-squared:                  0.370\n",
      "Method:                 Least Squares   F-statistic:                 1.771e+04\n",
      "Date:                Tue, 13 Jun 2023   Prob (F-statistic):               0.00\n",
      "Time:                        19:18:21   Log-Likelihood:            -4.4847e+05\n",
      "No. Observations:               30111   AIC:                         8.969e+05\n",
      "Df Residuals:                   30109   BIC:                         8.970e+05\n",
      "Df Model:                           1                                         \n",
      "Covariance Type:            nonrobust                                         \n",
      "===============================================================================\n",
      "                  coef    std err          t      P>|t|      [0.025      0.975]\n",
      "-------------------------------------------------------------------------------\n",
      "const       -7.559e+04   9798.815     -7.714      0.000   -9.48e+04   -5.64e+04\n",
      "sqft_living   560.5134      4.211    133.096      0.000     552.259     568.768\n",
      "==============================================================================\n",
      "Omnibus:                    43384.874   Durbin-Watson:                   1.862\n",
      "Prob(Omnibus):                  0.000   Jarque-Bera (JB):         47187801.072\n",
      "Skew:                           8.195   Prob(JB):                         0.00\n",
      "Kurtosis:                     196.242   Cond. No.                     5.56e+03\n",
      "==============================================================================\n",
      "\n",
      "Notes:\n",
      "[1] Standard Errors assume that the covariance matrix of the errors is correctly specified.\n",
      "[2] The condition number is large, 5.56e+03. This might indicate that there are\n",
      "strong multicollinearity or other numerical problems.\n"
     ]
    }
   ],
   "source": [
    "y = db[\"price\"]  # Assigning the \"price\" column from the dataset to the variable \"y\" (dependent)\n",
    "X_baseline = db[\"sqft_living\"]  # Assigning the \"sqft_living\" column from the dataset to the variable \"X_baseline\" (independent)\n",
    "\n",
    "# Creating an Ordinary Least Squares (OLS) regression model with the dependent variable y and independent variable X_baseline\n",
    "baseline_model = sm.OLS(y, sm.add_constant(X_baseline))\n",
    "\n",
    "# Fitting the OLS model to the data and obtaining the regression results\n",
    "baseline_results = baseline_model.fit()\n",
    "\n",
    "# Printing the summary of the regression results\n",
    "print(baseline_results.summary())"
   ]
  },
  {
   "cell_type": "code",
   "execution_count": 34,
   "metadata": {},
   "outputs": [
    {
     "name": "stdout",
     "output_type": "stream",
     "text": [
      "eval_env: 1\n"
     ]
    },
    {
     "data": {
      "image/png": "[encoded data removed]",
      "text/plain": [
       "<Figure size 1500x800 with 4 Axes>"
      ]
     },
     "metadata": {},
     "output_type": "display_data"
    }
   ],
   "source": [
    "fig = plt.figure(figsize=(15,8))\n",
    "sm.graphics.plot_regress_exog(baseline_results, \"sqft_living\", fig=fig)\n",
    "plt.show()"
   ]
  },
  {
   "cell_type": "markdown",
   "metadata": {},
   "source": [
    "Baseline Model Results/Interpretation: \n",
    "\n",
    "<b> R-squared: </b>\n",
    "\n",
    "The R-squared value of 0.37 indicates that approximately 37% of the variance in \"Price\" can be explained by \"sqft_living\".\n",
    "\n",
    "<b> Coefficients:  </b>\n",
    "\n",
    "Constant: The constant variable's coefficient is -7.559e+04. This value represents the estimated price of houses when the sqft_living variable is zero ( -$75,590).\n",
    "\n",
    "Sqft_living: For each additional unit of sqft_living, there is an estimated increase in price by approximately $560 dollars. This suggests that larger living areas are associated with higher house prices.\n",
    "\n",
    "In this case, both the constant term and sqft_living have p-values less than 0.05, suggesting that they are statistically significant. \n",
    "\n",
    "<b> F-statistic: </b> \n",
    "\n",
    "The F-statistic of 1.771e+04 indicates a significant relationship between sqft_living and price. The probability associated with the F-statistic is very close to zero, indicating that the model's overall fit is statistically significant.\n",
    "\n",
    "<b> Overall and Next steps: </b>\n",
    "\n",
    "The regression results indicate that the sqft_living variable has a statistically significant and positive relationship with the price of houses. The baseline model explains a moderate amount of the variation within price, so the next steps are to continue adding highly correlated variables to see if this can increase.  The next variable to test will be Bathrooms as it has the second highest correlation value. "
   ]
  },
  {
   "cell_type": "markdown",
   "metadata": {},
   "source": [
    "## Multi Model #1\n",
    "\n",
    "In this model iteration, I will add Bathrooms to see if I can increase the amount of variation the model can capture."
   ]
  },
  {
   "cell_type": "code",
   "execution_count": 35,
   "metadata": {},
   "outputs": [
    {
     "data": {
      "image/png": "[encoded data removed]",
      "text/plain": [
       "<Figure size 640x480 with 1 Axes>"
      ]
     },
     "metadata": {},
     "output_type": "display_data"
    }
   ],
   "source": [
    "db.plot.scatter(x=\"bathrooms\", y=\"price\");"
   ]
  },
  {
   "cell_type": "code",
   "execution_count": 36,
   "metadata": {},
   "outputs": [
    {
     "name": "stdout",
     "output_type": "stream",
     "text": [
      "                            OLS Regression Results                            \n",
      "==============================================================================\n",
      "Dep. Variable:                  price   R-squared:                       0.371\n",
      "Model:                            OLS   Adj. R-squared:                  0.371\n",
      "Method:                 Least Squares   F-statistic:                     8867.\n",
      "Date:                Tue, 13 Jun 2023   Prob (F-statistic):               0.00\n",
      "Time:                        19:18:26   Log-Likelihood:            -4.4846e+05\n",
      "No. Observations:               30111   AIC:                         8.969e+05\n",
      "Df Residuals:                   30108   BIC:                         8.970e+05\n",
      "Df Model:                           2                                         \n",
      "Covariance Type:            nonrobust                                         \n",
      "===============================================================================\n",
      "                  coef    std err          t      P>|t|      [0.025      0.975]\n",
      "-------------------------------------------------------------------------------\n",
      "const       -9.749e+04   1.16e+04     -8.429      0.000    -1.2e+05   -7.48e+04\n",
      "bathrooms    2.587e+04   7262.493      3.562      0.000    1.16e+04    4.01e+04\n",
      "sqft_living   542.2820      6.627     81.827      0.000     529.292     555.271\n",
      "==============================================================================\n",
      "Omnibus:                    43385.663   Durbin-Watson:                   1.862\n",
      "Prob(Omnibus):                  0.000   Jarque-Bera (JB):         47031874.629\n",
      "Skew:                           8.196   Prob(JB):                         0.00\n",
      "Kurtosis:                     195.920   Cond. No.                     7.03e+03\n",
      "==============================================================================\n",
      "\n",
      "Notes:\n",
      "[1] Standard Errors assume that the covariance matrix of the errors is correctly specified.\n",
      "[2] The condition number is large, 7.03e+03. This might indicate that there are\n",
      "strong multicollinearity or other numerical problems.\n"
     ]
    }
   ],
   "source": [
    "# Assigning the \"price\" column from the dataset to the variable \"y\"\n",
    "y = db[\"price\"]\n",
    "\n",
    "# Creating a DataFrame \"X_multi1\" with columns \"bathrooms\" and \"sqft_patio\" from the dataset\n",
    "X_multi1 = db[[\"bathrooms\", 'sqft_living']]\n",
    "\n",
    "# Creating an Ordinary Least Squares (OLS) regression model with the dependent variable y and independent variables X_multi1\n",
    "multi_model1 = sm.OLS(y, sm.add_constant(X_multi1))\n",
    "\n",
    "# Fitting the OLS model to the data and obtaining the regression results\n",
    "multi_results1 = multi_model1.fit()\n",
    "\n",
    "# Printing the summary of the regression results\n",
    "print(multi_results1.summary())"
   ]
  },
  {
   "cell_type": "markdown",
   "metadata": {},
   "source": [
    "Multi Model #1 Results and Interpretation: \n",
    "\n",
    "<b> R-squared: </b> \n",
    "\n",
    "The R-squared value of 0.371 indicates that approximately 37.1% of the variance in \"Price\" can be explained by \"Bathrooms\" and \"sqft_living\". This suggests that these two variables together have a slighly greater ability to explain the variation in price (+.1%) than the baseline model. \n",
    "\n",
    "<b> Coefficients: </b> \n",
    "\n",
    "The constant term is -9.749e+04, indicating the estimated price when all independent variables are zero is -$97,490.\n",
    "\n",
    "The coefficient for the \"bathrooms\" variable is 2.587e+04. This means that, on average, for every additional bathroom, the estimated price increases by $25,870.\n",
    "\n",
    "The coefficient for the \"sqft_living\" variable is 542.2820. On average, for every additional square foot of living space, the estimated price increases by $542, assuming all other variables are held constant. This is slightly lower than the coeffficient in the baseline model. \n",
    "\n",
    "<b> F-statistic: </b>\n",
    "\n",
    "The F-statistic is 8867 and the corresponding p-value is 0.00. This indicates that the overall model is statistically significant.\n",
    "\n",
    "<b> Overall and Next Steps: </b>\n",
    "\n",
    "The model suggests that the number of bathrooms and the square footage of living space have significant effects on the price of a property. However, the model's overall explanatory power is still moderate with the R-Squared remaining around 37%. In the next step, I will add the next highly correlated variable: sqft_patio. "
   ]
  },
  {
   "cell_type": "markdown",
   "metadata": {},
   "source": [
    "## Multi Model #2\n",
    "\n",
    "As the regression above is statistically significant, but I will test in other variables to try to capture more of the variance. "
   ]
  },
  {
   "cell_type": "code",
   "execution_count": 37,
   "metadata": {},
   "outputs": [
    {
     "name": "stdout",
     "output_type": "stream",
     "text": [
      "                            OLS Regression Results                            \n",
      "==============================================================================\n",
      "Dep. Variable:                  price   R-squared:                       0.377\n",
      "Model:                            OLS   Adj. R-squared:                  0.377\n",
      "Method:                 Least Squares   F-statistic:                     6068.\n",
      "Date:                Tue, 13 Jun 2023   Prob (F-statistic):               0.00\n",
      "Time:                        19:18:26   Log-Likelihood:            -4.4831e+05\n",
      "No. Observations:               30111   AIC:                         8.966e+05\n",
      "Df Residuals:                   30107   BIC:                         8.967e+05\n",
      "Df Model:                           3                                         \n",
      "Covariance Type:            nonrobust                                         \n",
      "===============================================================================\n",
      "                  coef    std err          t      P>|t|      [0.025      0.975]\n",
      "-------------------------------------------------------------------------------\n",
      "const       -9.551e+04   1.15e+04     -8.298      0.000   -1.18e+05    -7.3e+04\n",
      "bathrooms    2.122e+04   7232.126      2.934      0.003    7047.013    3.54e+04\n",
      "sqft_patio    312.2198     18.125     17.226      0.000     276.694     347.746\n",
      "sqft_living   514.3610      6.791     75.740      0.000     501.050     527.672\n",
      "==============================================================================\n",
      "Omnibus:                    43146.303   Durbin-Watson:                   1.862\n",
      "Prob(Omnibus):                  0.000   Jarque-Bera (JB):         45856504.286\n",
      "Skew:                           8.109   Prob(JB):                         0.00\n",
      "Kurtosis:                     193.491   Cond. No.                     7.07e+03\n",
      "==============================================================================\n",
      "\n",
      "Notes:\n",
      "[1] Standard Errors assume that the covariance matrix of the errors is correctly specified.\n",
      "[2] The condition number is large, 7.07e+03. This might indicate that there are\n",
      "strong multicollinearity or other numerical problems.\n"
     ]
    }
   ],
   "source": [
    "# Assigning Price from the dataset to the variable \"y\"\n",
    "y = db[\"price\"]\n",
    "\n",
    "# Creating a DataFrame \"X_multi2\" with multiple columns from the dataset\n",
    "X_multi2 = db[[\"bathrooms\", \"sqft_patio\",'sqft_living']]\n",
    "\n",
    "# Creating an Ordinary Least Squares (OLS) regression model with the dependent variable y and independent variables X_multi2\n",
    "multi_model2 = sm.OLS(y, sm.add_constant(X_multi2))\n",
    "\n",
    "# Fitting the OLS model to the data and obtaining the regression results\n",
    "multi_results2 = multi_model2.fit()\n",
    "\n",
    "# Printing the summary of the regression results\n",
    "print(multi_results2.summary())"
   ]
  },
  {
   "cell_type": "markdown",
   "metadata": {},
   "source": [
    "Multi Model #2 Results/Interpretation: \n",
    "\n",
    "<b> R-squared: </b>\n",
    "\n",
    "The R-squared value is 0.377 which indicates that approximately 37.7% of the variability in the \"price\" can be explained by the model. This is a +.6% increase from the Multi Model #1 results, suggesting that the inclusion sqft_patio did help explain more of the variance of the model. \n",
    "\n",
    "<b> F-statistic: </b> \n",
    "\n",
    "The F-statistic value of 6068 indicates a significant overall relationship and the low p-value further supports the statistical significance of the model.\n",
    "\n",
    "<b> Coefficients: </b>\n",
    "\n",
    "The constant term remains negative at -9.551e+04. \n",
    "\n",
    "The coefficient for the 'bathrooms' variable is 2.122e+04, indicating that each additional bathroom is associated with an estimated increase in price of approximately $21,220. This is lower than in the Multi Model #1 results. \n",
    "\n",
    "The coefficient for the 'sqft_living' variable is 514.3610, suggesting that a one-unit increase in the square footage of the living space is associated with an estimated increase in price of approximately $514.36. This value is lower than the previous 2 model iterations but still roughly in line. \n",
    "\n",
    "The coefficient for the 'sqft_patio' variable is 312.2198, indicating that a one-unit increase in the square footage of the patio is associated with an estimated increase in price of approximately $312.22.\n",
    "\n",
    "Overall, the the model results explain slightly more variance than Multi Model 1 and it is still statistically significant. However, the interpretability of a negative constant remains uncertain."
   ]
  },
  {
   "cell_type": "markdown",
   "metadata": {},
   "source": [
    "## Multi Model #3 \n",
    "\n",
    "In this iteration, I will incorporate the variables from the previous model along with all the heat source variables to determine which ones should remain in the final model."
   ]
  },
  {
   "cell_type": "code",
   "execution_count": 38,
   "metadata": {},
   "outputs": [
    {
     "name": "stdout",
     "output_type": "stream",
     "text": [
      "                            OLS Regression Results                            \n",
      "==============================================================================\n",
      "Dep. Variable:                  price   R-squared:                       0.378\n",
      "Model:                            OLS   Adj. R-squared:                  0.378\n",
      "Method:                 Least Squares   F-statistic:                     2610.\n",
      "Date:                Tue, 13 Jun 2023   Prob (F-statistic):               0.00\n",
      "Time:                        19:18:26   Log-Likelihood:            -4.4829e+05\n",
      "No. Observations:               30111   AIC:                         8.966e+05\n",
      "Df Residuals:                   30103   BIC:                         8.967e+05\n",
      "Df Model:                           7                                         \n",
      "Covariance Type:            nonrobust                                         \n",
      "===================================================================================\n",
      "                      coef    std err          t      P>|t|      [0.025      0.975]\n",
      "-----------------------------------------------------------------------------------\n",
      "const           -5.292e+04   3.28e+04     -1.615      0.106   -1.17e+05    1.13e+04\n",
      "bathrooms        3.091e+04   7418.909      4.166      0.000    1.64e+04    4.54e+04\n",
      "sqft_patio        312.6320     18.267     17.115      0.000     276.828     348.436\n",
      "sqft_living       512.6268      6.936     73.912      0.000     499.033     526.221\n",
      "source_electric -5.824e+04   3.27e+04     -1.784      0.074   -1.22e+05    5760.619\n",
      "source_oil       1.474e+04   3.34e+04      0.441      0.659   -5.08e+04    8.03e+04\n",
      "source_gas      -7.447e+04   3.23e+04     -2.304      0.021   -1.38e+05   -1.11e+04\n",
      "source_other     6.504e+04   1.27e+05      0.514      0.607   -1.83e+05    3.13e+05\n",
      "solar_power     -9650.0920   1.68e+05     -0.057      0.954   -3.39e+05     3.2e+05\n",
      "==============================================================================\n",
      "Omnibus:                    43129.689   Durbin-Watson:                   1.861\n",
      "Prob(Omnibus):                  0.000   Jarque-Bera (JB):         45932914.373\n",
      "Skew:                           8.102   Prob(JB):                         0.00\n",
      "Kurtosis:                     193.652   Cond. No.                     1.54e+18\n",
      "==============================================================================\n",
      "\n",
      "Notes:\n",
      "[1] Standard Errors assume that the covariance matrix of the errors is correctly specified.\n",
      "[2] The smallest eigenvalue is 6.96e-26. This might indicate that there are\n",
      "strong multicollinearity problems or that the design matrix is singular.\n"
     ]
    }
   ],
   "source": [
    "# Assign the dependent variable 'price' from the DataFrame to the variable 'y'\n",
    "y = db[\"price\"]\n",
    "\n",
    "# Assign the selected independent variables to the DataFrame 'X_multi3'\n",
    "X_multi3 = db[[\"bathrooms\", \"sqft_patio\", \"sqft_living\", \"source_electric\", \"source_oil\", \"source_gas\", \"source_other\", \"solar_power\"]]\n",
    "\n",
    "# Create an OLS (Ordinary Least Squares) model with the dependent variable 'y' and independent variables in 'X_multi3'\n",
    "multi_model3 = sm.OLS(y, sm.add_constant(X_multi3))\n",
    "\n",
    "# Fit the OLS model to the data and obtain the results\n",
    "multi_results3 = multi_model3.fit()\n",
    "\n",
    "# Print the summary of the regression results\n",
    "print(multi_results3.summary())"
   ]
  },
  {
   "cell_type": "markdown",
   "metadata": {},
   "source": [
    "Multi Model #3 Results/Interpretations\n",
    "\n",
    "\n",
    "<b> R-squared: </b> \n",
    "\n",
    "The R-squared value of 0.378 indicates that approximately 37.8% of the variation in price can be explained by the model. This is .1% greater than the Multi Model #2 results indicating that adding more variables to the model helped only slightly in the explanatory power of the model. \n",
    "\n",
    "<b> F-statistic </b> \n",
    "\n",
    "The F-statistic of  2610 indicates that there is a significant relationship between the independent variables as a whole and the dependent variable. \n",
    "\n",
    "<b> Coefficients: </b> \n",
    "\n",
    "Constant: The coefficient is -5.292e+04 ($-52,920) with a p-value of 0.106. This means that the constant term is not statistically significant.\n",
    "\n",
    "Bathrooms: The coefficient is 3.091e+04 ($30,910) with a low p-value. This indicates that the number of bathrooms has a statistically significant positive relationship with the price.This value is larger than observed in previous model iterations. \n",
    "\n",
    "Sqft_patio: The coefficient is 312.6320 with a low p-value. This suggests that the square footage of the patio has a statistically significant positive relationship with the price. An increase in the patio's square footage is associated with an increase in the price of $312.63. This is in line with previous model iterations. \n",
    "\n",
    "Sqft_living: The coefficient is 512.6268 with a low p-value. This indicates that the square footage of the living area has a statistically significant positive relationship with the price. An increase in the living area's square footage is associated with an increase in the price of $512.63. This is in line with previous model iterations. \n",
    "\n",
    "Source_electric: The coefficient is -5.824e+04 ($-58,240) with a p-value of 0.074. This implies that the source of electricity has a statistically insignificant negative relationship with the price. A property with an electric power source is associated with a decrease in the price compared to other power sources.\n",
    "\n",
    "Source_oil: The coefficient is 1.474e+04 ($14,740) with a p-value of 0.659. This suggests that the source of oil does not have a statistically significant relationship with the price. \n",
    "\n",
    "Source_gas: The coefficient is -7.447e+04 ($-74,470) with a p-value of 0.021. This implies that the source of gas has a statistically significant negative relationship with the price. A property with a gas power source is associated with a decrease in the price.\n",
    "\n",
    "Source_other: The coefficient is 6.504e+04 ($65,040) with a p-value of 0.607. This suggests that the \"other\" power source category does not have a statistically significant relationship with the price.\n",
    "\n",
    "Solar_power: The coefficient is -9.65e+03 ($-9,650) with a p-value of 0.954. This implies that solar power does not have a statistically significant relationship with the price. The coefficient is negative, but the p-value is relatively high, indicating that the relationship is not significant. \n",
    "\n",
    "<b> Overall and Next Steps: </b>\n",
    "\n",
    "The regression results indicate that only bathrooms, sqft_patio, sqft_living, and source_gas have statistically significant relationships with the price of houses. Therefore, going forward, I will drop the source variables that were insiginficant from the model and test an iteration only using the significant variables. "
   ]
  },
  {
   "cell_type": "markdown",
   "metadata": {},
   "source": [
    "## Multi Model #4 \n",
    "\n",
    "In this model iteration, I've only kept source_gas in the model to see the results. "
   ]
  },
  {
   "cell_type": "code",
   "execution_count": 39,
   "metadata": {
    "scrolled": true
   },
   "outputs": [
    {
     "name": "stdout",
     "output_type": "stream",
     "text": [
      "                            OLS Regression Results                            \n",
      "==============================================================================\n",
      "Dep. Variable:                  price   R-squared:                       0.377\n",
      "Model:                            OLS   Adj. R-squared:                  0.377\n",
      "Method:                 Least Squares   F-statistic:                     4559.\n",
      "Date:                Tue, 13 Jun 2023   Prob (F-statistic):               0.00\n",
      "Time:                        19:18:26   Log-Likelihood:            -4.4831e+05\n",
      "No. Observations:               30111   AIC:                         8.966e+05\n",
      "Df Residuals:                   30106   BIC:                         8.967e+05\n",
      "Df Model:                           4                                         \n",
      "Covariance Type:            nonrobust                                         \n",
      "===============================================================================\n",
      "                  coef    std err          t      P>|t|      [0.025      0.975]\n",
      "-------------------------------------------------------------------------------\n",
      "const       -8.188e+04   1.19e+04     -6.868      0.000   -1.05e+05   -5.85e+04\n",
      "bathrooms     2.45e+04   7268.765      3.370      0.001    1.03e+04    3.87e+04\n",
      "sqft_patio    305.0709     18.193     16.768      0.000     269.411     340.731\n",
      "sqft_living   518.0122      6.840     75.729      0.000     504.605     531.420\n",
      "source_gas  -4.016e+04   9195.257     -4.368      0.000   -5.82e+04   -2.21e+04\n",
      "==============================================================================\n",
      "Omnibus:                    43118.843   Durbin-Watson:                   1.862\n",
      "Prob(Omnibus):                  0.000   Jarque-Bera (JB):         45894397.736\n",
      "Skew:                           8.098   Prob(JB):                         0.00\n",
      "Kurtosis:                     193.572   Cond. No.                     7.39e+03\n",
      "==============================================================================\n",
      "\n",
      "Notes:\n",
      "[1] Standard Errors assume that the covariance matrix of the errors is correctly specified.\n",
      "[2] The condition number is large, 7.39e+03. This might indicate that there are\n",
      "strong multicollinearity or other numerical problems.\n"
     ]
    }
   ],
   "source": [
    "# Assign the dependent variable 'price' from the DataFrame to the variable 'y'\n",
    "y = db[\"price\"]\n",
    "\n",
    "# Assign the selected independent variables to the DataFrame 'X_multi3'\n",
    "X_multi4 = db[[\"bathrooms\", \"sqft_patio\", \"sqft_living\", \"source_gas\"]]\n",
    "\n",
    "# Create an OLS (Ordinary Least Squares) model with the dependent variable 'y' and independent variables in 'X_multi3'\n",
    "multi_model4 = sm.OLS(y, sm.add_constant(X_multi4))\n",
    "\n",
    "# Fit the OLS model to the data and obtain the results\n",
    "multi_results4 = multi_model4.fit()\n",
    "\n",
    "# Print the summary of the regression results\n",
    "print(multi_results4.summary())"
   ]
  },
  {
   "cell_type": "markdown",
   "metadata": {},
   "source": [
    "Multi Model #4 Results/Interpretation: \n",
    "\n",
    "<b> R-squared: </b> \n",
    "\n",
    "The R-squared value of 0.377 indicates that approximately 37.7% of the variation in price can be explained by the variables in the model. This means that even removing the insignificant source varriables returned the R-Sqaured to it value in Multi Model #2 - before the source variables were added in. \n",
    "\n",
    "Therefore, while the coefficients and p-values of source_gas are signficant, I will not include it going forward in the model because it is not producing a better interpretation of the variation. "
   ]
  },
  {
   "cell_type": "markdown",
   "metadata": {},
   "source": [
    "## Multi Model #5\n",
    "\n",
    "To further enhance the model's read on the variability in price, the next variable to be evaluated is Sewer System."
   ]
  },
  {
   "cell_type": "code",
   "execution_count": 40,
   "metadata": {},
   "outputs": [
    {
     "name": "stdout",
     "output_type": "stream",
     "text": [
      "                            OLS Regression Results                            \n",
      "==============================================================================\n",
      "Dep. Variable:                  price   R-squared:                       0.382\n",
      "Model:                            OLS   Adj. R-squared:                  0.382\n",
      "Method:                 Least Squares   F-statistic:                     4653.\n",
      "Date:                Tue, 13 Jun 2023   Prob (F-statistic):               0.00\n",
      "Time:                        19:18:26   Log-Likelihood:            -4.4819e+05\n",
      "No. Observations:               30111   AIC:                         8.964e+05\n",
      "Df Residuals:                   30106   BIC:                         8.964e+05\n",
      "Df Model:                           4                                         \n",
      "Covariance Type:            nonrobust                                         \n",
      "=================================================================================\n",
      "                    coef    std err          t      P>|t|      [0.025      0.975]\n",
      "---------------------------------------------------------------------------------\n",
      "const         -1.058e+05   8084.094    -13.083      0.000   -1.22e+05   -8.99e+04\n",
      "bathrooms      5292.8711   7270.766      0.728      0.467   -8958.141    1.95e+04\n",
      "sqft_patio      364.4090     18.343     19.866      0.000     328.455     400.363\n",
      "sqft_living     524.5814      6.793     77.224      0.000     511.267     537.896\n",
      "sewer_public   4.182e+04   5992.964      6.978      0.000    3.01e+04    5.36e+04\n",
      "sewer_private -1.476e+05   8200.128    -17.998      0.000   -1.64e+05   -1.32e+05\n",
      "==============================================================================\n",
      "Omnibus:                    43240.391   Durbin-Watson:                   1.861\n",
      "Prob(Omnibus):                  0.000   Jarque-Bera (JB):         46664197.669\n",
      "Skew:                           8.140   Prob(JB):                         0.00\n",
      "Kurtosis:                     195.168   Cond. No.                     6.72e+17\n",
      "==============================================================================\n",
      "\n",
      "Notes:\n",
      "[1] Standard Errors assume that the covariance matrix of the errors is correctly specified.\n",
      "[2] The smallest eigenvalue is 3.65e-25. This might indicate that there are\n",
      "strong multicollinearity problems or that the design matrix is singular.\n"
     ]
    }
   ],
   "source": [
    "# Assign the dependent variable 'price' from the DataFrame to the variable 'y'\n",
    "y = db[\"price\"]\n",
    "\n",
    "# Assign the selected independent variables to the DataFrame 'X_multi3'\n",
    "X_multi5 = db[[\"bathrooms\", \"sqft_patio\", \"sqft_living\" ,\"sewer_public\", \"sewer_private\"]]\n",
    "\n",
    "# Create an OLS (Ordinary Least Squares) model with the dependent variable 'y' and independent variables in 'X_multi3'\n",
    "multi_model5 = sm.OLS(y, sm.add_constant(X_multi5))\n",
    "\n",
    "# Fit the OLS model to the data and obtain the results\n",
    "multi_results5 = multi_model5.fit()\n",
    "\n",
    "# Print the summary of the regression results\n",
    "print(multi_results5.summary())"
   ]
  },
  {
   "cell_type": "markdown",
   "metadata": {},
   "source": [
    "Multi Model #5 Results/Interpretation: \n",
    "\n",
    "<b> R-squared: </b> \n",
    "\n",
    "The R-squared value of 0.382 indicates that approximately 38.2% of the variation in the price can be explained by the independent variables included in the model. This is +.5% percentage points greater than Multi Model 2. \n",
    "\n",
    "<b> F-Statistic: </b>\n",
    "\n",
    "The F-statistic is 4653, and the associated p-value is 0.00.This suggests that the overall model has a statistically significant relationship with Price. \n",
    "\n",
    "<b> Overall and Next Steps: </b>\n",
    "\n",
    "By introducing the variable \"sewer_system\" into the model, the bathrooms variable became statistically insignificant. However, from a practical standpoint, it doesn't seem logical to prioritize the inclusion of sewere system over the bathrooms variable. Therefore, in future iterations of the model it is reasonable to retain the bathrooms variable in the model for a more meaningful analysis.\n",
    "\n",
    "Therefore, while the coefficients and p-values of the added variables regarding the sewer system is signficant, I will not include it going forward in the model. "
   ]
  },
  {
   "cell_type": "markdown",
   "metadata": {},
   "source": [
    "## Multi Model #6\n",
    "\n",
    "Next, I will include Condition Rating in the analysis to assess its impact and determine its significance in predicting Price."
   ]
  },
  {
   "cell_type": "code",
   "execution_count": 41,
   "metadata": {},
   "outputs": [
    {
     "name": "stdout",
     "output_type": "stream",
     "text": [
      "                            OLS Regression Results                            \n",
      "==============================================================================\n",
      "Dep. Variable:                  price   R-squared:                       0.377\n",
      "Model:                            OLS   Adj. R-squared:                  0.377\n",
      "Method:                 Least Squares   F-statistic:                     4558.\n",
      "Date:                Tue, 13 Jun 2023   Prob (F-statistic):               0.00\n",
      "Time:                        19:18:26   Log-Likelihood:            -4.4831e+05\n",
      "No. Observations:               30111   AIC:                         8.966e+05\n",
      "Df Residuals:                   30106   BIC:                         8.967e+05\n",
      "Df Model:                           4                                         \n",
      "Covariance Type:            nonrobust                                         \n",
      "====================================================================================\n",
      "                       coef    std err          t      P>|t|      [0.025      0.975]\n",
      "------------------------------------------------------------------------------------\n",
      "const            -1.843e+05   2.39e+04     -7.698      0.000   -2.31e+05   -1.37e+05\n",
      "bathrooms         2.246e+04   7236.024      3.104      0.002    8277.651    3.66e+04\n",
      "sqft_patio         306.8388     18.165     16.892      0.000     271.235     342.442\n",
      "sqft_living        515.0090      6.791     75.838      0.000     501.699     528.320\n",
      "condition_rating  2.468e+04   5836.308      4.229      0.000    1.32e+04    3.61e+04\n",
      "==============================================================================\n",
      "Omnibus:                    43195.842   Durbin-Watson:                   1.861\n",
      "Prob(Omnibus):                  0.000   Jarque-Bera (JB):         46125945.937\n",
      "Skew:                           8.127   Prob(JB):                         0.00\n",
      "Kurtosis:                     194.051   Cond. No.                     1.41e+04\n",
      "==============================================================================\n",
      "\n",
      "Notes:\n",
      "[1] Standard Errors assume that the covariance matrix of the errors is correctly specified.\n",
      "[2] The condition number is large, 1.41e+04. This might indicate that there are\n",
      "strong multicollinearity or other numerical problems.\n"
     ]
    }
   ],
   "source": [
    "# Assign the dependent variable 'price' from the DataFrame to the variable 'y'\n",
    "y = db[\"price\"]\n",
    "\n",
    "# Assign the selected independent variables to the DataFrame 'X_multi3'\n",
    "X_multi6 = db[[\"bathrooms\", \"sqft_patio\", \"sqft_living\" ,\"condition_rating\"]]\n",
    "\n",
    "# Create an OLS (Ordinary Least Squares) model with the dependent variable 'y' and independent variables in 'X_multi3'\n",
    "multi_model6 = sm.OLS(y, sm.add_constant(X_multi6))\n",
    "\n",
    "# Fit the OLS model to the data and obtain the results\n",
    "multi_results6 = multi_model6.fit()\n",
    "\n",
    "# Print the summary of the regression results\n",
    "print(multi_results6.summary())"
   ]
  },
  {
   "cell_type": "markdown",
   "metadata": {},
   "source": [
    "Multi Model #6 Results/Interpretation: \n",
    "\n",
    "<b> R-squared: </b> \n",
    "\n",
    "The R-squared value of 0.377 indicates that approximately 37.7% of the variation in price can be explained by the independent variables included in the model. This result is consistent with Multi Model #2. \n",
    "\n",
    "Therefore, despite not contributing to an improvement in the R-squared value, the inclusion of condition ratings in the model remains justified. This is because condition ratings exhibit statistical significance and their inclusion does not affect the adjusted R-squared when compared to Multi_Model 2."
   ]
  },
  {
   "cell_type": "markdown",
   "metadata": {},
   "source": [
    "## Final Model Selection \n",
    "\n",
    "After conducting 6 model iterations, excluding the baseline model, I have chosen Multi-Model 6 as the final model for this analysis. In the following code block, I have provided partial regression plots for each variable included in the model, and I will explain my reasoning behind this selection.\n",
    "\n",
    "The partial regression plots show the relationship between each variable and the dependent variable. By examining the plots, I can observe the strongest positive relationship continues to be sqft_living. "
   ]
  },
  {
   "cell_type": "code",
   "execution_count": 42,
   "metadata": {},
   "outputs": [
    {
     "name": "stdout",
     "output_type": "stream",
     "text": [
      "eval_env: 1\n",
      "eval_env: 1\n",
      "eval_env: 1\n",
      "eval_env: 1\n"
     ]
    },
    {
     "data": {
      "image/png": "[encoded data removed]",
      "text/plain": [
       "<Figure size 1500x500 with 4 Axes>"
      ]
     },
     "metadata": {},
     "output_type": "display_data"
    }
   ],
   "source": [
    "fig = plt.figure(figsize=(15,5))\n",
    "sm.graphics.plot_partregress_grid(\n",
    "    multi_results6,\n",
    "    exog_idx=list(X_multi6.columns),\n",
    "    grid=(2,4),\n",
    "    fig=fig)\n",
    "plt.tight_layout()\n",
    "plt.show()"
   ]
  },
  {
   "cell_type": "markdown",
   "metadata": {},
   "source": [
    "<b> Selection Reasoning: <b> \n",
    "\n",
    "I selected the above model based on the statistical significance of both the model and the individual variables. Each variable in the model has a coefficient that is interpretable, and their low p-values indicate a high level of confidence in their statistical significance.\n",
    "\n",
    "The F-statistic of 4558 and its very low p-value provide strong evidence that the model as a whole is statistically significant. This suggests that the included variables collectively have a strong relationship with the price.\n",
    "\n",
    "These are the shortcomings of the previous models:\n",
    "\n",
    "1. In Model 3, multiple heat source variables were found to be statistically insignificant. This implies that including these variables did not contribute significantly to explaining the price.\n",
    "\n",
    "2. Model 4 attempted to address the issue by including only the statistically significant heat source variables. However, this resulted in the model's R-squared not improving from previous model iterations at all. \n",
    "\n",
    "3. In Model 5, the inclusion of sewer system variables came at the expense of the bathrooms variable, which seemed counterintuitive from a business standpoint. Additionally, the increase in the R-squared was only marginal.\n",
    "\n",
    "Therefore, the final model was chosen over the previous iterations because it included only variables that were statistically significant (identified in iteration 1, 2 and 6) and contributed to the overall model's read on the variation of Price. Therefore, this model provides the most comprehensive view on the factors of a home the impact the overall value. \n"
   ]
  },
  {
   "cell_type": "markdown",
   "metadata": {},
   "source": [
    "## Recommendations & Conclusions\n"
   ]
  },
  {
   "cell_type": "markdown",
   "metadata": {},
   "source": [
    "Based on the regression results, here are four recommendations for homeowners looking to increase the value of their homes through renovations before selling:\n",
    "\n",
    "1. <b> Focus on bathroom renovations: </b> Consider adding an additional bathroom or upgrading existing bathrooms to attract potential buyers and potentially increase the value of your home. However, it's important to carefully assess the cost-benefit ratio of such renovations to ensure they align with your budget and market expectations. According to the regression results, the coefficient for bathrooms is 2.246e+04. This suggests that, on average, each additional bathroom in a home is associated with an incremental increase in price of approximately $22,460. \n",
    "\n",
    "2. <b> Enhance the outdoor living space: </b>  Consider expanding or improving your outdoor living space to create an attractive and functional area for potential buyers. This could involve adding a patio, deck, or outdoor seating area, and landscaping to create a visually appealing environment. The coefficient patio sqft. is 306.8388. This implies that for every additional square foot of patio space, we can expect an incremental increase in price of approximately $307. \n",
    "\n",
    "3. <b> Invest in the living area: </b> If feasible, explore options for expanding the living space, such as adding an extension, converting a basement or attic into usable living space, or removing non-load-bearing walls to create an open floor plan. These enhancements can provide buyers with more living space and potentially increase the desirability and value of your home. The coefficient of living sqft variable is 515.0090. This suggests that for every additional square foot of living space, we can expect an incremental increase in price of approximately $515.\n",
    "\n",
    "4. <b> Improve the condition of the property: </b> Prioritize making necessary repairs and upgrades throughout the property, including fixing any structural issues, updating outdated features, refreshing paint and finishes, and ensuring that the home is well-maintained. Creating a move-in ready and well-cared-for property can attract buyers and potentially increase the perceived value.The coefficient for condition rating is 2.468e+04. This indicates that each increase in the property condition rating is associated with an incremental increase in price of approximately $24,680. \n"
   ]
  },
  {
   "cell_type": "code",
   "execution_count": 70,
   "metadata": {},
   "outputs": [
    {
     "data": {
      "image/png": "[encoded data removed]",
      "text/plain": [
       "<Figure size 640x480 with 1 Axes>"
      ]
     },
     "metadata": {},
     "output_type": "display_data"
    }
   ],
   "source": [
    "# Extract coefficients and feature names from regression results\n",
    "coefficients = multi_results6.params[1:]  # Exclude the intercept term\n",
    "features = X_multi6.columns\n",
    "\n",
    "# Sort coefficients and features by absolute value in descending order\n",
    "sorted_indices = np.argsort(np.abs(coefficients))[::-1]\n",
    "sorted_coefficients = coefficients[sorted_indices]\n",
    "sorted_features = features[sorted_indices]\n",
    "\n",
    "# Choose Colors\n",
    "positive_color = 'lightgreen'\n",
    "negative_color = 'red'\n",
    "\n",
    "# graph\n",
    "fig, ax = plt.subplots()\n",
    "\n",
    "ax.set_yticks(np.arange(len(sorted_features)))\n",
    "ax.set_yticklabels(sorted_features)\n",
    "\n",
    "# Format x-axis tick labels as dollars\n",
    "ax.xaxis.set_major_formatter(ticker.StrMethodFormatter('${x:,.0f}'))\n",
    "\n",
    "# Plot the coefficients as horizontal bars\n",
    "ax.barh(np.arange(len(sorted_features)), sorted_coefficients, color=[positive_color if c >= 0 else negative_color for c in sorted_coefficients])\n",
    "\n",
    "# Add a vertical line at zero\n",
    "ax.axvline(x=0, color='black', linewidth=0.5)\n",
    "\n",
    "# Set labels and title\n",
    "ax.set_xlabel('Coefficient Value')\n",
    "ax.set_title('Coefficents')\n",
    "\n",
    "# Display the graph\n",
    "plt.show()"
   ]
  },
  {
   "cell_type": "markdown",
   "metadata": {},
   "source": [
    "## Limitations and Next Steps\n",
    "\n",
    "The above analysis was done on a dataset that didn't include one of the most influential aspects of home prices: Location. \n",
    "\n",
    "Therefore, for future analyses, it is strongly recommended to obtain a more expansive dataset that encompasses location information. This would allow for a more comprehensive examination of the relationships between various predictors and price, ultimately leading to more reliable and insightful results."
   ]
  }
 ],
 "metadata": {
  "kernelspec": {
   "display_name": "Python 3 (ipykernel)",
   "language": "python",
   "name": "python3"
  },
  "language_info": {
   "codemirror_mode": {
    "name": "ipython",
    "version": 3
   },
   "file_extension": ".py",
   "mimetype": "text/x-python",
   "name": "python",
   "nbconvert_exporter": "python",
   "pygments_lexer": "ipython3",
   "version": "3.9.13"
  }
 },
 "nbformat": 4,
 "nbformat_minor": 2
}
